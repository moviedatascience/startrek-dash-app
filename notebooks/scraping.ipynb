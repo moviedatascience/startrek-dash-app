{
 "cells": [
  {
   "cell_type": "code",
   "execution_count": 1,
   "metadata": {},
   "outputs": [],
   "source": [
    "import requests\n",
    "import pandas as pd\n",
    "from bs4 import BeautifulSoup\n",
    "import string\n",
    "import re\n",
    "import nltk\n",
    "import json\n",
    "import matplotlib.pyplot as plt\n",
    "import numpy as np"
   ]
  },
  {
   "cell_type": "code",
   "execution_count": 2,
   "metadata": {},
   "outputs": [],
   "source": [
    "def get_text(url):\n",
    "    response = requests.get(url)\n",
    "    content = response.content\n",
    "    parser = BeautifulSoup(content,'html.parser')\n",
    "    return(parser.text)"
   ]
  },
  {
   "cell_type": "code",
   "execution_count": 3,
   "metadata": {},
   "outputs": [],
   "source": [
    "def clean_text(script):\n",
    "    script_clean=script.strip()\n",
    "    script_clean=script_clean.replace(\"\\n\",\"\")\n",
    "    script_clean=script_clean.replace(\"\\r\",\" \")\n",
    "    script_clean=script_clean.replace(\"\\r\\n\",\"\")\n",
    "    script_clean=re.sub(\"([\\(\\[]).*?([\\)\\]])\", \"\", script_clean)\n",
    "    script_clean=re.sub(r'\\.([a-zA-Z])', r'. \\1', script_clean) #remove missing whitespace between character lines.\n",
    "    script_clean=re.sub(r'\\!([a-zA-Z])', r'! \\1', script_clean)\n",
    "    script_clean=re.sub(r'\\?([a-zA-Z])', r'? \\1', script_clean)\n",
    "    return(script_clean)"
   ]
  },
  {
   "cell_type": "code",
   "execution_count": 4,
   "metadata": {},
   "outputs": [],
   "source": [
    "def get_cast(script_clean):\n",
    "    tokens=nltk.word_tokenize(script_clean)\n",
    "    cast=[]\n",
    "    for word in tokens:\n",
    "        if re.search(\"\\\\b[A-Z]{3,}\\\\b\", word) is not None:\n",
    "            cast.append(word)\n",
    "    return(list(set(cast)))"
   ]
  },
  {
   "cell_type": "code",
   "execution_count": 5,
   "metadata": {},
   "outputs": [],
   "source": [
    "script=get_text('http://www.chakoteya.net/DS9/575.htm')"
   ]
  },
  {
   "cell_type": "code",
   "execution_count": 6,
   "metadata": {},
   "outputs": [],
   "source": [
    "script_clean=clean_text(script)"
   ]
  },
  {
   "cell_type": "code",
   "execution_count": 7,
   "metadata": {},
   "outputs": [],
   "source": [
    "def get_lines(script_clean, cast):\n",
    "    split_script=script_clean.split(':')\n",
    "    lines_dict=dict.fromkeys(cast)\n",
    "    for cast_member in cast:\n",
    "        lines=[]\n",
    "        for i in range(len(split_script)-1):\n",
    "            if cast_member in split_script[i].strip().split(\" \"):\n",
    "                line=split_script[i+1].strip().split(\" \")\n",
    "                line=[word for word in line if word != '']\n",
    "                for member in cast:\n",
    "                    if member in line:\n",
    "                        line.remove(member)\n",
    "                line=' '.join(line)\n",
    "                lines.append(line)\n",
    "        lines_dict[cast_member]=lines\n",
    "\n",
    "    return(lines_dict)"
   ]
  },
  {
   "cell_type": "code",
   "execution_count": 8,
   "metadata": {},
   "outputs": [],
   "source": [
    "def get_page_links():\n",
    "    top_links=[\"http://www.chakoteya.net/DS9/episodes.htm\", \n",
    "                   \"http://www.chakoteya.net/StarTrek/episodes.htm\", \n",
    "                   \"http://www.chakoteya.net/NextGen/episodes.htm\", \n",
    "                   \"http://www.chakoteya.net/Voyager/episode_listing.htm\", \n",
    "                   \"http://www.chakoteya.net/Enterprise/episodes.htm\"]\n",
    "    short_links=[\"http://www.chakoteya.net/DS9/\", \n",
    "                   \"http://www.chakoteya.net/StarTrek/\", \n",
    "                   \"http://www.chakoteya.net/NextGen/\", \n",
    "                   \"http://www.chakoteya.net/Voyager/\", \n",
    "                   \"http://www.chakoteya.net/Enterprise/\"]\n",
    "    links_list=[]\n",
    "    names_list=[]\n",
    "    for i, link in enumerate(top_links):\n",
    "        response = requests.get(link)\n",
    "        content = response.content\n",
    "        parser = BeautifulSoup(content,'html.parser')\n",
    "        urls = parser.find_all('a')\n",
    "        for page in urls:\n",
    "            links_list.append(short_links[i]+str(page.get('href')))\n",
    "            name=page.text\n",
    "            name=name.replace('\\r\\n',' ')\n",
    "            names_list.append(name)\n",
    "            \n",
    "    \n",
    "    links_to_remove=['http://www.chakoteya.net/Voyager/fortyseven.htm',\n",
    "                     'http://www.chakoteya.net/Voyager/LineCountS1-S3.htm',\n",
    "                     'http://www.chakoteya.net/Voyager/LineCountS4-S7.htm',\n",
    "                     'http://www.chakoteya.net/Enterprise/fortyseven.htm',\n",
    "                    ]\n",
    "    links_list=[link for link in links_list if (link.endswith('.htm')) & (link not in links_to_remove)]\n",
    "    \n",
    "    return(links_list)"
   ]
  },
  {
   "cell_type": "code",
   "execution_count": 9,
   "metadata": {},
   "outputs": [],
   "source": [
    "# links_list"
   ]
  },
  {
   "cell_type": "code",
   "execution_count": 10,
   "metadata": {},
   "outputs": [],
   "source": [
    "page_links=get_page_links()"
   ]
  },
  {
   "cell_type": "code",
   "execution_count": 11,
   "metadata": {},
   "outputs": [
    {
     "data": {
      "text/plain": [
       "708"
      ]
     },
     "execution_count": 11,
     "metadata": {},
     "output_type": "execute_result"
    }
   ],
   "source": [
    "len(page_links)"
   ]
  },
  {
   "cell_type": "code",
   "execution_count": 12,
   "metadata": {},
   "outputs": [],
   "source": [
    "DS9_links = page_links[0:173]\n",
    "TOS_links = page_links[173:253]\n",
    "TAS_links = page_links[253:275]\n",
    "TNG_links = page_links[275:451]\n",
    "VOY_links = page_links[451:611]\n",
    "ENT_links = page_links[611:708]\n",
    "\n",
    "links=[DS9_links, TOS_links, TAS_links, TNG_links, VOY_links, ENT_links]"
   ]
  },
  {
   "cell_type": "code",
   "execution_count": 13,
   "metadata": {},
   "outputs": [
    {
     "name": "stdout",
     "output_type": "stream",
     "text": [
      "DS9\n",
      "TOS\n",
      "TAS\n",
      "TNG\n",
      "VOY\n",
      "ENT\n"
     ]
    },
    {
     "name": "stderr",
     "output_type": "stream",
     "text": [
      "IOPub data rate exceeded.\n",
      "The notebook server will temporarily stop sending output\n",
      "to the client in order to avoid crashing it.\n",
      "To change this limit, set the config variable\n",
      "`--NotebookApp.iopub_data_rate_limit`.\n",
      "\n",
      "Current values:\n",
      "NotebookApp.iopub_data_rate_limit=1000000.0 (bytes/sec)\n",
      "NotebookApp.rate_limit_window=3.0 (secs)\n",
      "\n"
     ]
    }
   ],
   "source": [
    "links_names=['DS9', 'TOS', 'TAS', 'TNG', 'VOY', 'ENT']\n",
    "links=[DS9_links, TOS_links, TAS_links, TNG_links, VOY_links, ENT_links]\n",
    "\n",
    "all_series_scripts={}\n",
    "for i,series in enumerate(links):\n",
    "    series_name=str(links_names[i])\n",
    "    print(series_name)\n",
    "    all_series_scripts[series_name]={}\n",
    "    episode_script={}\n",
    "    all_cast=[]\n",
    "    for j,link in enumerate(series):\n",
    "        episode=\"episode \"+str(j)\n",
    "        text=get_text(link)\n",
    "        episode_script[episode]=text\n",
    "    all_series_scripts[series_name]=episode_script\n",
    "\n",
    "print(all_series_scripts)"
   ]
  },
  {
   "cell_type": "code",
   "execution_count": 14,
   "metadata": {},
   "outputs": [],
   "source": [
    "with open('all_scripts_raw.json', 'w') as data:\n",
    "    json.dump(all_series_scripts, data)"
   ]
  },
  {
   "cell_type": "code",
   "execution_count": 15,
   "metadata": {},
   "outputs": [],
   "source": [
    "with open('all_scripts_raw.json', 'r') as data:\n",
    "    all_scripts_raw = json.load(data)"
   ]
  },
  {
   "cell_type": "code",
   "execution_count": 16,
   "metadata": {},
   "outputs": [
    {
     "name": "stdout",
     "output_type": "stream",
     "text": [
      "DS9\n",
      "TOS\n",
      "TAS\n",
      "TNG\n",
      "VOY\n",
      "ENT\n"
     ]
    },
    {
     "name": "stderr",
     "output_type": "stream",
     "text": [
      "IOPub data rate exceeded.\n",
      "The notebook server will temporarily stop sending output\n",
      "to the client in order to avoid crashing it.\n",
      "To change this limit, set the config variable\n",
      "`--NotebookApp.iopub_data_rate_limit`.\n",
      "\n",
      "Current values:\n",
      "NotebookApp.iopub_data_rate_limit=1000000.0 (bytes/sec)\n",
      "NotebookApp.rate_limit_window=3.0 (secs)\n",
      "\n"
     ]
    }
   ],
   "source": [
    "\n",
    "links_names=['DS9', 'TOS', 'TAS', 'TNG', 'VOY', 'ENT']\n",
    "\n",
    "all_series_lines={}\n",
    "for i,series in enumerate(links_names):\n",
    "    print(series)\n",
    "    series_name=str(links_names[i])\n",
    "    all_series_lines[series_name]={}\n",
    "    all_lines_dict={}\n",
    "    all_cast=[]\n",
    "    #for j,episode in enumerate(all_series_scripts[series]):\n",
    "    for j,episode in enumerate(all_scripts_raw[series]):\n",
    "        #script=all_series_scripts[series][episode]\n",
    "        script=all_scripts_raw[series][episode]\n",
    "        cleaned_script=clean_text(script)\n",
    "        cast=get_cast(cleaned_script)\n",
    "        for member in cast:\n",
    "            if member not in all_cast:\n",
    "                all_cast.append(member)\n",
    "        lines_dict=get_lines(cleaned_script,all_cast)\n",
    "        all_lines_dict[episode]=lines_dict\n",
    "    all_series_lines[series]=all_lines_dict\n",
    "\n",
    "print(all_series_lines)"
   ]
  },
  {
   "cell_type": "code",
   "execution_count": 17,
   "metadata": {},
   "outputs": [],
   "source": [
    "with open('all_series_lines.json', 'w') as data:\n",
    "    json.dump(all_series_lines, data)"
   ]
  },
  {
   "cell_type": "code",
   "execution_count": 18,
   "metadata": {},
   "outputs": [],
   "source": [
    "with open('all_series_lines.json', 'r') as data:\n",
    "    all_series_lines = json.load(data)"
   ]
  },
  {
   "cell_type": "code",
   "execution_count": 19,
   "metadata": {},
   "outputs": [
    {
     "data": {
      "text/plain": [
       "[\"He said something about his new image. I tell you, he's been acting kind of strange lately.\",\n",
       " \"Well, if I didn't know better, I'd say he was showing signs of insecurity.\",\n",
       " \"I don't know. Sometimes I think he's becoming more human than any of us realise.\",\n",
       " 'Data?',\n",
       " 'Can we come in?',\n",
       " 'Did you damage your face, Data?',\n",
       " 'Yes, Captain.',\n",
       " \"I'm on my way.\",\n",
       " 'Now remember, this is a near warp transport, so the effects may be a little unusual.',\n",
       " 'Try and hold still, will you, Data?',\n",
       " \"I wish I knew what to suggest. I'm damned if I can find a thing wrong with him.\",\n",
       " 'What, are you saying that Data is losing his mind?',\n",
       " \"Well, sir, it's just a guess, but, sometimes he wants to be human so badly he can taste it. I think he just tends to get confused when his human qualities surface.\",\n",
       " \"Witnessing Graves' death may have been some sort of catalyst for the way he\",\n",
       " 'Data. Data, can you hear me?',\n",
       " 'Yeah.',\n",
       " 'I think you just did.',\n",
       " 'You can ask me anything you want.']"
      ]
     },
     "execution_count": 19,
     "metadata": {},
     "output_type": "execute_result"
    }
   ],
   "source": [
    "#checking against source to make sure the character lines\n",
    "#appear in the correct episode\n",
    "all_series_lines['TNG']['episode 30']['LAFORGE']"
   ]
  },
  {
   "cell_type": "code",
   "execution_count": 20,
   "metadata": {},
   "outputs": [],
   "source": [
    "#writing the corrected df\n",
    "# all_series_lines = pd.DataFrame(data=all_series_lines)\n",
    "# all_series_lines.to_csv(r'C:\\Users\\Eric\\Desktop\\Star_Trek_Scripts-master\\Star_Trek_Scripts-master\\data\\all_series_lines.csv')\n",
    "#when I wrote it to a df spock ended up getting lines???????????????"
   ]
  },
  {
   "cell_type": "code",
   "execution_count": 21,
   "metadata": {},
   "outputs": [],
   "source": [
    "episodes=all_series_lines['TNG'].keys()"
   ]
  },
  {
   "cell_type": "code",
   "execution_count": 22,
   "metadata": {},
   "outputs": [],
   "source": [
    "total_lines_counts={}\n",
    "line_counts_by_episode={}\n",
    "for i,ep in enumerate(episodes):\n",
    "    if i == 0:\n",
    "        episode=\"Episode 1 & 2\"\n",
    "    else:\n",
    "        episode=\"Episode \"+str(i+2)\n",
    "    line_counts_by_episode[episode]={}\n",
    "    if all_series_lines['TNG'][ep] is not np.NaN:\n",
    "        for member in list(all_series_lines['TNG'][ep].keys()):\n",
    "            line_counts_by_episode[episode][member]=len(all_series_lines['TNG'][ep][member])\n",
    "            if member in total_lines_counts.keys():\n",
    "                total_lines_counts[member]=total_lines_counts[member]+len(all_series_lines['TNG'][ep][member])\n",
    "            else:\n",
    "                total_lines_counts[member]=len(all_series_lines['TNG'][ep][member])"
   ]
  },
  {
   "cell_type": "code",
   "execution_count": 23,
   "metadata": {},
   "outputs": [
    {
     "data": {
      "image/png": "[encoded data removed]",
      "text/plain": [
       "<Figure size 432x288 with 1 Axes>"
      ]
     },
     "metadata": {
      "needs_background": "light"
     },
     "output_type": "display_data"
    },
    {
     "data": {
      "text/plain": [
       "15        PICARD\n",
       "12         RIKER\n",
       "7           DATA\n",
       "18       LAFORGE\n",
       "17          WORF\n",
       "1        CRUSHER\n",
       "10          TROI\n",
       "9         WESLEY\n",
       "14      COMPUTER\n",
       "21         TASHA\n",
       "161      PULASKI\n",
       "20       O'BRIEN\n",
       "163       GUINAN\n",
       "65       LWAXANA\n",
       "335      BARCLAY\n",
       "387    ALEXANDER\n",
       "323         VASH\n",
       "244     K'EHLEYR\n",
       "263        OGAWA\n",
       "615      JELLICO\n",
       "Name: Character, dtype: object"
      ]
     },
     "execution_count": 23,
     "metadata": {},
     "output_type": "execute_result"
    }
   ],
   "source": [
    "#checking to make sure Spock doesn't appear, since that was an issue before\n",
    "TNG_df_byep = pd.DataFrame(line_counts_by_episode)\n",
    "# TNG_df_byep.loc['SPOCK']\n",
    "\n",
    "TNG_df=pd.DataFrame(list(total_lines_counts.items()), columns=['Character','No. of Lines'])\n",
    "Top20=TNG_df.sort_values(by='No. of Lines', ascending=False).head(20)\n",
    "\n",
    "Top20.plot.bar(x='Character',y='No. of Lines')\n",
    "plt.show()\n",
    "\n",
    "Top20['Character']"
   ]
  },
  {
   "cell_type": "code",
   "execution_count": 24,
   "metadata": {},
   "outputs": [],
   "source": [
    "export_TOP20 = Top20.to_csv(r'C:\\Users\\Eric\\startrek-dash-app\\assets\\top20')"
   ]
  },
  {
   "cell_type": "code",
   "execution_count": 26,
   "metadata": {},
   "outputs": [],
   "source": [
    "export_vis_TNG = TNG_df_byep.to_csv(r'C:\\Users\\Eric\\startrek-dash-app\\assets\\bar_chart_TNG')"
   ]
  }
 ],
 "metadata": {
  "kernelspec": {
   "display_name": "Python 3",
   "language": "python",
   "name": "python3"
  },
  "language_info": {
   "codemirror_mode": {
    "name": "ipython",
    "version": 3
   },
   "file_extension": ".py",
   "mimetype": "text/x-python",
   "name": "python",
   "nbconvert_exporter": "python",
   "pygments_lexer": "ipython3",
   "version": "3.7.3"
  }
 },
 "nbformat": 4,
 "nbformat_minor": 4
}
